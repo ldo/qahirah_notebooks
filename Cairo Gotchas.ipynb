{
 "cells": [
  {
   "cell_type": "markdown",
   "metadata": {},
   "source": [
    "This notebook will describe some subtleties of behaviour in the [**Cairo**](http://cairographics.org/) 2D graphics library. Access to Cairo in Python will be done via the **Qahirah** ([GitLab](https://gitlab.com/ldo/qahirah), [BitBucket](https://bitbucket.org/ldo17/qahirah)) high-level binding.\n",
    "\n",
    "The following topics will be covered:\n",
    "\n",
    "* [Path Extents Surprises](#Path-Extents-Surprises)\n",
    "* [Pattern-Context Matrix](#Pattern-Context-Matrix)\n",
    "* [Line-Thickness Transformations](#Line-Thickness-Transformations)\n",
    "* [Single-Pixel Lines](#Single-Pixel-Lines)\n",
    "* [Recording Patterns](#Recording-Patterns)\n",
    "* [Cairo Is Not PostScript](#Cairo-Is-Not-PostScript)\n",
    "* [Flushing Surfaces](#Flushing-Surfaces)\n",
    "\n",
    "First, set up some common definitions which will be reused later."
   ]
  },
  {
   "cell_type": "code",
   "execution_count": null,
   "metadata": {},
   "outputs": [],
   "source": [
    "from ipywidgets.widgets import \\\n",
    "    interact\n",
    "import ipywidgets.widgets as \\\n",
    "    widgets\n",
    "from IPython.display import \\\n",
    "    display_png\n",
    "import qahirah as qah\n",
    "from qahirah import \\\n",
    "    CAIRO, \\\n",
    "    Colour, \\\n",
    "    Matrix, \\\n",
    "    Path, \\\n",
    "    Rect, \\\n",
    "    Vector\n",
    "\n",
    "pix = qah.ImageSurface.create \\\n",
    "  (\n",
    "    format = CAIRO.FORMAT_RGB24,\n",
    "    dimensions = (400, 400)\n",
    "  )\n",
    "ctx = None\n",
    "\n",
    "def reset() :\n",
    "    \"(re)initializes the drawing context, wiping out any existing drawing.\"\n",
    "    global ctx\n",
    "    del ctx\n",
    "    ctx = qah.Context.create(pix)\n",
    "    (ctx\n",
    "       .save()\n",
    "       .set_source_colour(Colour.grey(.95))\n",
    "       .paint()\n",
    "       .restore()\n",
    "    )\n",
    "#end reset\n",
    "\n",
    "def display() :\n",
    "    \"(re)displays what has been drawn.\"\n",
    "    display_png(pix.to_png_bytes(), raw = True)\n",
    "#end display\n",
    "\n",
    "reset()"
   ]
  },
  {
   "cell_type": "markdown",
   "metadata": {},
   "source": [
    "## Path Extents Surprises"
   ]
  },
  {
   "cell_type": "markdown",
   "metadata": {},
   "source": [
    "Cairo provides the `cairo_path_extents`, `cairo_stroke_extents` and `cairo_fill_extents` calls which return the bounding rectangle that the current path would occupy with its basic geometry, or when stroked or filled respectively.\n",
    "\n",
    "However, note that these calls can return surprising results if the CTM has a rotation component!\n",
    "\n",
    "The following example draws a filled green rectangle with various rotation settings, along with two different hollow frames illustrating the different ways of computing the path extents: the reddish one shows the extents returned while the rotation transformation is still in effect, while the blue one shows the extents returned after the transformation has been restored to its previous state."
   ]
  },
  {
   "cell_type": "code",
   "execution_count": null,
   "metadata": {},
   "outputs": [],
   "source": [
    "@interact(rotate = (-90, +90, 5))\n",
    "def path_extents_example(rotate) :\n",
    "    reset()\n",
    "    transform = Matrix.rotate(rotate * qah.deg, pix.dimensions / 2)\n",
    "    (ctx\n",
    "        .save()\n",
    "        .transform(transform)\n",
    "        .rectangle(Rect(0, 0, 170, 100) + pix.dimensions / 3)\n",
    "    )\n",
    "    transformed_extents = ctx.path_extents\n",
    "    ctx.restore()\n",
    "    untransformed_extents = ctx.path_extents\n",
    "    (ctx\n",
    "        .save()\n",
    "        .transform(transform)\n",
    "        .set_source_colour(Colour.from_hsva((0.25, 0.5, 0.5)))\n",
    "        .fill()\n",
    "        .restore()\n",
    "    )\n",
    "    (ctx\n",
    "        .save()\n",
    "        .transform(transform)\n",
    "        .rectangle(transformed_extents)\n",
    "        .set_source_colour(Colour.from_hsva((0.9, 0.75, 0.75)))\n",
    "        .stroke()\n",
    "        .restore()\n",
    "        .rectangle(untransformed_extents)\n",
    "        .set_source_colour(Colour.from_hsva((0.6, 0.5, 0.75)))\n",
    "        .stroke()\n",
    "    )\n",
    "    display()\n",
    "#end path_extents_example"
   ]
  },
  {
   "cell_type": "markdown",
   "metadata": {},
   "source": [
    "Notice what is going on here? The *untransformed* extents correctly match the *axis-aligned* bounds of the transformed path, while the *transformed* extents reflect the bounds of the *untransformed extents aligned to the transformed axes*. So Cairo is computing, not the bounds of the path, but the bounds of the bounds of the path!\n",
    "\n",
    "Does this behaviour make sense? I don’t think it does. As I understand it, the way that Cairo does path construction is that each point is immediately transformed through the CTM and stored in world coordinates. That’s fine. But the logical way to compute the extents is to put each point through the *inverse* of the CTM, and then work out the minima and maxima along each axis of the resulting coordinates. The caller would then have to put the resulting bounding rectangle through the CTM again to get it to align correctly with the path. This, I think, would be a less surprising, and more useful, result overall."
   ]
  },
  {
   "cell_type": "markdown",
   "metadata": {},
   "source": [
    "## Pattern-Context Matrix"
   ]
  },
  {
   "cell_type": "markdown",
   "metadata": {},
   "source": [
    "When `cairo_set_source` (or one of its convenience wrappers, like `cairo_set_source_surface`) is called to set a source pattern for subsequent drawing, a copy of the CTM is put into a separate field of the drawing context, and used for transforming the pattern instead of the CTM. This copy is not automatically updated for subsequent changes to the CTM, but only when a new source pattern is set. That way, different objects drawn subsequently with different transformations (but without touching the source setting) will have their repeats of the source pattern join up nicely.\n",
    "\n",
    "The following example draws two pairs of circles, one above the other, all filled with the same pattern. The slider lets you adjust the spacing between the circles in each pair. The only difference (apart from the positioning) in the way the two pairs are drawn is the placement of the `set_source` versus `set_matrix` calls. As you alter the positions of the shapes, the pattern origin for filling the upper pair does not move, while for the lower one it does."
   ]
  },
  {
   "cell_type": "code",
   "execution_count": null,
   "metadata": {},
   "outputs": [],
   "source": [
    "@interact(separation = (-50, +150, 10))\n",
    "def pattern_context_matrix_demo(separation) :\n",
    "    shape = Path.create_arc \\\n",
    "      (\n",
    "        centre = (0, 0),\n",
    "        radius = 90,\n",
    "        angle1 = 0,\n",
    "        angle2 = qah.circle,\n",
    "        negative = False\n",
    "      )\n",
    "    shape.segments[0].closed = True\n",
    "    pat = qah.RecordingSurface.create(CAIRO.CONTENT_COLOUR_ALPHA, Rect(0, 0, 100, 100))\n",
    "    (qah.Context.create(pat)\n",
    "        # simple checkerboard pattern\n",
    "        .rectangle(Rect(0, 0, 50, 50))\n",
    "        .rectangle(Rect(50, 50, 50, 50))\n",
    "        .set_source_colour(Colour.grey(0))\n",
    "        .fill()\n",
    "    )\n",
    "    pat.flush()\n",
    "    pat = qah.Pattern.create_for_surface(pat).set_extend(CAIRO.EXTEND_REPEAT)\n",
    "    pos1 = Matrix.translate((200, 100))\n",
    "    pos2 = Matrix.translate((200, 300))\n",
    "    reset()\n",
    "    transform1 = ctx.matrix * Matrix.translate((separation, 0))\n",
    "    transform2 = ctx.matrix * Matrix.translate((- separation, 0))\n",
    "    (ctx\n",
    "        .save()\n",
    "        .set_source(pat)\n",
    "        .set_matrix(transform1)\n",
    "        .append_path(shape.transform(pos1))\n",
    "        .fill()\n",
    "        .set_matrix(transform2)\n",
    "        .append_path(shape.transform(pos1))\n",
    "        .fill()\n",
    "        .restore()\n",
    "    )\n",
    "    (ctx\n",
    "        .save()\n",
    "        .set_matrix(transform1)\n",
    "        .set_source(pat)\n",
    "        .append_path(shape.transform(pos2))\n",
    "        .fill()\n",
    "        .set_matrix(transform2)\n",
    "        .set_source(pat)\n",
    "        .append_path(shape.transform(pos2))\n",
    "        .fill()\n",
    "        .restore()\n",
    "    )\n",
    "    display()\n",
    "#end pattern_context_matrix_demo"
   ]
  },
  {
   "cell_type": "markdown",
   "metadata": {},
   "source": [
    "## Line Thickness Transformations"
   ]
  },
  {
   "cell_type": "markdown",
   "metadata": {},
   "source": [
    "How would you draw an ellipse in Cairo? It has a built-in pair of `arc` primitives for drawing circles, so an obvious way would be to draw a circle and use a transformation matrix that applies non-uniform scaling to turn this into an ellipse.\n",
    "\n",
    "This will work fine for *filling* an ellipse. But if you were to try *stroking* one, you might notice a pitfall with this technique.\n",
    "\n",
    "The following examples deliberately use a thick line for stroking to make the point clearer."
   ]
  },
  {
   "cell_type": "markdown",
   "metadata": {},
   "source": [
    "### An Ellipse—The Wrong Way"
   ]
  },
  {
   "cell_type": "code",
   "execution_count": null,
   "metadata": {},
   "outputs": [],
   "source": [
    "@interact(distort=(0.0, 1.0, 0.1))\n",
    "def ellipse_wrong_demo(distort) :\n",
    "    reset()\n",
    "    (ctx\n",
    "        .scale((distort, 1))\n",
    "        .arc\n",
    "          (\n",
    "            centre = pix.dimensions / 2,\n",
    "            radius = abs(pix.dimensions) / 4,\n",
    "            angle1 = 0,\n",
    "            angle2 = qah.circle,\n",
    "            negative = False\n",
    "          )\n",
    "        .set_line_width(20)\n",
    "        .stroke()\n",
    "    )\n",
    "    display()\n",
    "#end ellipse_wrong_demo"
   ]
  },
  {
   "cell_type": "markdown",
   "metadata": {},
   "source": [
    "In the above example, the CTM applies, not only to the construction of the path, but *to the line thickness for stroking as well*."
   ]
  },
  {
   "cell_type": "markdown",
   "metadata": {},
   "source": [
    "### An Ellipse—The Right Way (1)"
   ]
  },
  {
   "cell_type": "code",
   "execution_count": null,
   "metadata": {},
   "outputs": [],
   "source": [
    "@interact(distort=(0.0, 1.0, 0.1))\n",
    "def ellipse_right1_demo(distort) :\n",
    "    reset()\n",
    "    (ctx\n",
    "        .save()\n",
    "        .scale((distort, 1))\n",
    "        .arc\n",
    "          (\n",
    "            centre = pix.dimensions / 2,\n",
    "            radius = abs(pix.dimensions) / 4,\n",
    "            angle1 = 0,\n",
    "            angle2 = qah.circle,\n",
    "            negative = False\n",
    "          )\n",
    "        .restore()\n",
    "        .set_line_width(20)\n",
    "        .stroke()\n",
    "    )\n",
    "    display()\n",
    "#end ellipse_right1_demo"
   ]
  },
  {
   "cell_type": "markdown",
   "metadata": {},
   "source": [
    "This one works correctly! Note how the non-uniform scaling is *removed* (via the `restore()`) *before* the `set_line_width()` and `stroke()` calls are done."
   ]
  },
  {
   "cell_type": "markdown",
   "metadata": {},
   "source": [
    "### An Ellipse—The Right Way (2)"
   ]
  },
  {
   "cell_type": "markdown",
   "metadata": {},
   "source": [
    "The above is the technique for correctly drawing an ellipse that most directly corresponds to straight Cairo calls. But since Qahirah takes full advantage of Python, here is another technique that doesn’t apply the nonuniform scaling to the context CTM at all, but directly to the path geometry itself."
   ]
  },
  {
   "cell_type": "code",
   "execution_count": null,
   "metadata": {},
   "outputs": [],
   "source": [
    "circle_shape = Path.create_arc \\\n",
    "  (\n",
    "    centre = pix.dimensions / 2,\n",
    "    radius = abs(pix.dimensions) / 4,\n",
    "    angle1 = 0,\n",
    "    angle2 = qah.circle,\n",
    "    negative = False\n",
    "  )\n",
    "\n",
    "@interact(distort=(0.0, 1.0, 0.1))\n",
    "def ellipse_right2_demo(distort) :\n",
    "    reset()\n",
    "    (ctx\n",
    "        .append_path(circle_shape.transform(Matrix.scale((distort, 1))))\n",
    "        .set_line_width(20)\n",
    "        .stroke()\n",
    "    )\n",
    "    display()\n",
    "#end ellipse_right2_demo"
   ]
  },
  {
   "cell_type": "markdown",
   "metadata": {},
   "source": [
    "## Single-Pixel Lines"
   ]
  },
  {
   "cell_type": "markdown",
   "metadata": {},
   "source": [
    "When trying to draw lines which are some exact small number of device pixels in thickness (e.g. 1 pixel thick), be careful of anti-aliasing. Cairo locates pixels at integer+½ units in device coordinates. This way, adjacent filled areas which share the same integer-coordinate boundary will abut nicely without overlaps or gaps. So if you want to draw lines that don’t get smeared across extra pixels, you will have to position them at coordinates $n$ such that\n",
    "\n",
    "$$n \\text{ mod } 1 = {1 \\over 2}$$\n",
    "\n",
    "The following example draws two graphics, both involving a line at a position and angle that you can control, then displays the pixels as large blocks so you can more clearly see the effect of the anti-aliasing. You can also choose from some of the different kinds of anti-aliasing provided by Cairo (including none). One graphic strokes the line with a thickness of one pixel, while the other fills the areas on either side of the line with different colours. The pixel locations are marked out with blue spots.\n",
    "\n",
    "You can see how, with anti-aliasing turned on, there is no position which gives both\n",
    "* a crisp line, *and*\n",
    "* a crisp boundary between the filled areas.\n",
    "\n",
    "Integer coordinates give the latter, while integer+½ coordinates give the former. And even then, this only works with perfectly vertical or horizontal lines."
   ]
  },
  {
   "cell_type": "code",
   "execution_count": null,
   "metadata": {},
   "outputs": [],
   "source": [
    "@interact \\\n",
    "  (\n",
    "    offset = (0.0, 16, 0.125),\n",
    "    angle = (-45, 45, 1),\n",
    "    antialias_type =\n",
    "        widgets.Dropdown\n",
    "          (\n",
    "            options = list\n",
    "              (\n",
    "                (a, getattr(qah.CAIRO, \"ANTIALIAS_\" + a.upper()))\n",
    "                for a in (\"Default\", \"None\", \"Fast\", \"Best\")\n",
    "              )\n",
    "          )\n",
    "  )\n",
    "def single_pixel_lines(offset, angle, antialias_type) :\n",
    "    k = 16 # size of small drawing area\n",
    "    offscreen = qah.ImageSurface.create \\\n",
    "      (\n",
    "        format = CAIRO.FORMAT_RGB24,\n",
    "        dimensions = Vector(1, 1) * k\n",
    "      )\n",
    "    offset /= k\n",
    "\n",
    "    def show_stroke(g) :\n",
    "        (g\n",
    "            .set_source_colour(Colour.grey(1))\n",
    "            .paint()\n",
    "            .set_source_colour(Colour.grey(0))\n",
    "            .set_line_width(1)\n",
    "            .transform\n",
    "              (\n",
    "                Matrix.rotate(angle * qah.deg, Vector(1, 1) * k / 2)\n",
    "              )\n",
    "            .move_to((offset * k, 0))\n",
    "            .rel_line_to((0, k))\n",
    "            .stroke()\n",
    "        )\n",
    "    #end show_stroke\n",
    "\n",
    "    def show_fill(g) :\n",
    "        (g\n",
    "            .set_source_colour(Colour.grey(1))\n",
    "            .paint()\n",
    "            .transform\n",
    "              (\n",
    "                Matrix.rotate(angle * qah.deg, Vector(1, 1) * k / 2)\n",
    "              )\n",
    "            .move_to((0, 0))\n",
    "            .line_to((offset * k, 0))\n",
    "            .rel_line_to((0, k))\n",
    "            .line_to((0, k))\n",
    "            .set_source_colour(Colour.from_hsva((0.4, 0.4, 1)))\n",
    "            .fill()\n",
    "            .move_to((k, 0))\n",
    "            .line_to((offset * k, 0))\n",
    "            .rel_line_to((0, k))\n",
    "            .line_to((k, k))\n",
    "            .set_source_colour(Colour.from_hsva((0.17, 0.7, 0.9)))\n",
    "            .fill()\n",
    "        )\n",
    "    #end show_fill\n",
    "\n",
    "#begin single_pixel_lines\n",
    "    for op in (show_stroke, show_fill) :\n",
    "        reset()\n",
    "        op(qah.Context.create(offscreen).set_antialias(antialias_type))\n",
    "        offscreen.flush()\n",
    "        (ctx\n",
    "            .set_source\n",
    "                (qah.Pattern.create_for_surface(offscreen)\n",
    "                    .set_filter(CAIRO.FILTER_NEAREST) # maximimize blockiness\n",
    "                    .set_matrix(Matrix.scale(k / pix.dimensions.x))\n",
    "                )\n",
    "            .paint()\n",
    "        )\n",
    "        (ctx\n",
    "            .set_matrix(Matrix.scale(pix.dimensions.x / k))\n",
    "            .set_source_colour(Colour.from_hsva((0.55, 1, 1, 0.5)))\n",
    "        )\n",
    "        for x in range(k) :\n",
    "            for y in range(k) :\n",
    "                (ctx\n",
    "                     .arc\n",
    "                      (\n",
    "                        centre = (x + 0.5, y + 0.5),\n",
    "                        radius = 0.1,\n",
    "                        angle1 = 0,\n",
    "                        angle2 = qah.circle,\n",
    "                        negative = False\n",
    "                      )\n",
    "                    .fill()\n",
    "                )\n",
    "            #end for\n",
    "        #end for\n",
    "        display()\n",
    "    #end for\n",
    "#end single_pixel_lines\n"
   ]
  },
  {
   "cell_type": "markdown",
   "metadata": {},
   "source": [
    "## Recording Patterns"
   ]
  },
  {
   "cell_type": "markdown",
   "metadata": {},
   "source": [
    "It is possible to record a sequence of drawing calls that can be played back as a pattern. This can be done in two different ways:\n",
    "* using a [Recording Surface](https://www.cairographics.org/manual/cairo-Recording-Surfaces.html)\n",
    "* using the [`push/pop_group`](https://www.cairographics.org/manual/cairo-cairo-t.html#cairo-push-group) calls.\n",
    "\n",
    "If the original drawing calls were resolution-independent, then the resulting pattern is also resolution-independent. Except in certain situations...\n",
    "\n",
    "It turns out that resolution-independence is only maintained if you leave the pattern extend setting at `EXTEND_NONE`. Any other setting will cause the pattern to be rendered to a bitmap *at its original resolution*. So if you try scaling the pattern up, it gets pixelated-looking.\n",
    "\n",
    "The following demo ilustrates this with a simple filled-circle pattern. Notice how the edges only look sharp at a scale factor of 1, or an extend setting of `EXTEND_NONE`, or both."
   ]
  },
  {
   "cell_type": "code",
   "execution_count": null,
   "metadata": {},
   "outputs": [],
   "source": [
    "@interact \\\n",
    "  (\n",
    "    extend_type =\n",
    "        widgets.Dropdown\n",
    "          (\n",
    "            options = list\n",
    "              (\n",
    "                (a, getattr(qah.CAIRO, \"EXTEND_\" + a.upper()))\n",
    "                for a in (\"None\", \"Repeat\", \"Reflect\", \"Pad\")\n",
    "              )\n",
    "          ),\n",
    "    scale = (1, 5, 1)\n",
    "  )\n",
    "def recording_pattern_demo(extend_type, scale) :\n",
    "    reset()\n",
    "    patsurf = qah.RecordingSurface.create \\\n",
    "      (\n",
    "        content = CAIRO.CONTENT_COLOUR_ALPHA,\n",
    "        extents = Rect(0, 0, 50, 50)\n",
    "      )\n",
    "    (qah.Context.create(patsurf)\n",
    "        .set_source_colour(Colour.from_hsva((0.75, 1, 1)))\n",
    "        .arc\n",
    "          (\n",
    "            centre = (25, 25),\n",
    "            radius = 22.5,\n",
    "            angle1 = 0,\n",
    "            angle2 = qah.circle,\n",
    "            negative = False\n",
    "          )\n",
    "        .fill()\n",
    "    )\n",
    "    patsurf.flush()\n",
    "    pat = \\\n",
    "        (qah.Pattern.create_for_surface(patsurf)\n",
    "            .set_extend(extend_type)\n",
    "        )\n",
    "    pat.matrix = Matrix.scale(1 / scale)\n",
    "    (ctx\n",
    "        .set_source(pat)\n",
    "        .rectangle(Rect.from_corners((0, 0), pix.dimensions))\n",
    "        .fill()\n",
    "    )\n",
    "    display()\n",
    "#end recording_pattern_demo"
   ]
  },
  {
   "cell_type": "markdown",
   "metadata": {
    "collapsed": true
   },
   "source": [
    "## Cairo Is Not PostScript"
   ]
  },
  {
   "cell_type": "markdown",
   "metadata": {},
   "source": [
    "The Cairo graphics model borrows heavily from the old PostScript graphics programming language of the 1980s; it may be considered a close superset of the latter’s graphics model. If you are familiar with PostScript, or trying to convert some code that was originally written for PostScript, you may be tempted into doing a one-for-one transliteration of PostScript graphics calls into Cairo API calls. But beware of one or two pitfalls:\n",
    "* The orientation of the default coordinate system: PostScript normally has its $y$-coordinate increasing *upwards*, while Cairo has it increasing *downwards*.\n",
    "* The correspondence between PostScript’s `gsave`/`grestore` commands for saving and restoring the graphics state, and the corresponding `save`/`restore` calls in a Cairo drawing context, is not exact. In PostScript, the graphics state that is saved and restored includes the current path under construction; in Cairo, it does not."
   ]
  },
  {
   "cell_type": "markdown",
   "metadata": {},
   "source": [
    "## Flushing Surfaces"
   ]
  },
  {
   "cell_type": "markdown",
   "metadata": {},
   "source": [
    "The [`flush()`](https://www.cairographics.org/manual/cairo-cairo-surface-t.html#cairo-surface-flush) call is supposed to be used after drawing into a surface, if you want to access the underlying surface data outside of Cairo. This call works for image surfaces: you would expect it to work for [SVG](https://www.cairographics.org/manual/cairo-SVG-Surfaces.html), [PDF](https://www.cairographics.org/manual/cairo-PDF-Surfaces.html) and [PostScript](https://www.cairographics.org/manual/cairo-PostScript-Surfaces.html) surfaces as well, but it doesn’t.\n",
    "\n",
    "For example, you might call [`show_page()`](https://www.cairographics.org/manual/cairo-cairo-surface-t.html#cairo-surface-show-page) at the end of writing a single page to a PDF file, followed by a `flush()`, and expect the file to contain the page, only to see an empty file!\n",
    "\n",
    "In fact, flushing of such surfaces only happens when they are _disposed_. In Qahirah, this happens only when you get rid of the wrapper `Surface` objects. The downside of this is it makes it impossible to check for errors on writing the file. You just have to hope for the best! _C’est la vie_ — not exactly the wisest attitude to API design ..."
   ]
  },
  {
   "cell_type": "code",
   "execution_count": null,
   "metadata": {},
   "outputs": [],
   "source": []
  }
 ],
 "metadata": {
  "kernelspec": {
   "display_name": "Python 3 (ipykernel)",
   "language": "python",
   "name": "python3"
  },
  "language_info": {
   "codemirror_mode": {
    "name": "ipython",
    "version": 3
   },
   "file_extension": ".py",
   "mimetype": "text/x-python",
   "name": "python",
   "nbconvert_exporter": "python",
   "pygments_lexer": "ipython3",
   "version": "3.11.4"
  }
 },
 "nbformat": 4,
 "nbformat_minor": 1
}
