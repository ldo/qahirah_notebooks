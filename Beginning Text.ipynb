{
 "cells": [
  {
   "cell_type": "markdown",
   "metadata": {
    "collapsed": true
   },
   "source": [
    "## Introduction"
   ]
  },
  {
   "cell_type": "markdown",
   "metadata": {},
   "source": [
    "This notebook will introduce some concepts of font and text handling in the [**Cairo**](http://cairographics.org/) 2D graphics library. Access to Cairo in Python will be done via the **Qahirah** ([GitLab](https://gitlab.com/ldo/qahirah), [GitHub](https://github.com/ldo/qahirah)) high-level binding.\n",
    "\n",
    "The functions described here make up what is called Cairo’s “toy” font API. This means they do not provide advanced layout features like ligatures, auto-kerning and bidirectional or vertical text.\n",
    "\n",
    "The following topics will be covered:\n",
    "* [Loading Fonts](#Loading-Fonts)\n",
    "* [Measuring Text](#Measuring-Text)\n",
    "* [Horizontally Aligning Text](#Horizontally-Aligning-Text)\n",
    "* [Vertically Aligning Text](#Vertically-Aligning-Text)\n",
    " * [On The Text Metrics](#Vertical-Alignment-On-The-Text-Metrics)\n",
    " * [On The Font Metrics](#Vertical-Alignment-On-The-Font-Metrics)\n",
    "* [Characters And Glyphs](#Characters-And-Glyphs)\n",
    "* [Font Size Subtleties](#Font-Size-Subtleties)\n",
    "* [The Font Matrix](#The-Font-Matrix)\n",
    "* [Fitting Text To A Given Width](#Fitting-Text-To-A-Given-Width)\n",
    "\n",
    "Start by executing the following cell to set up some common definitions needed later."
   ]
  },
  {
   "cell_type": "code",
   "execution_count": null,
   "metadata": {},
   "outputs": [],
   "source": [
    "from ipywidgets import \\\n",
    "    widgets\n",
    "from ipywidgets.widgets import \\\n",
    "    interact\n",
    "from IPython.display import \\\n",
    "    display_png\n",
    "import qahirah as qah\n",
    "from qahirah import \\\n",
    "    CAIRO, \\\n",
    "    Colour, \\\n",
    "    Matrix, \\\n",
    "    Vector\n",
    "\n",
    "pix = qah.ImageSurface.create \\\n",
    "  (\n",
    "    format = CAIRO.FORMAT_RGB24,\n",
    "    dimensions = (600, 200)\n",
    "  )\n",
    "ctx = None\n",
    "\n",
    "def reset() :\n",
    "    \"(re)initializes the drawing context, wiping out any existing drawing.\"\n",
    "    global ctx\n",
    "    del ctx\n",
    "    ctx = qah.Context.create(pix)\n",
    "    (ctx\n",
    "       .save()\n",
    "       .set_source_colour(Colour.grey(.95))\n",
    "       .paint()\n",
    "       .restore()\n",
    "    )\n",
    "#end reset\n",
    "\n",
    "def display() :\n",
    "    \"(re)displays what has been drawn.\"\n",
    "    display_png(pix.to_png_bytes(), raw = True)\n",
    "#end display\n",
    "\n",
    "reset()"
   ]
  },
  {
   "cell_type": "markdown",
   "metadata": {},
   "source": [
    "## Loading Fonts"
   ]
  },
  {
   "cell_type": "markdown",
   "metadata": {},
   "source": [
    "Cairo has two main object types to do with managing fonts: [cairo_font_face_t](http://cairographics.org/manual/cairo-cairo-font-face-t.html) (represented in Qahirah by a `FontFace` object) and [cairo_scaled_font_t](http://cairographics.org/manual/cairo-cairo-scaled-font-t.html) (represented in Qahirah by a `ScaledFontFace`). A *font face* is what you get when you load a font into Cairo, while a *scaled font face* is part of Cairo’s font-caching machinery: it is what you get after specifying a font size and other rendering options for the font. If you are displaying text with a number of different, repeated, settings, then it is more efficient to pre-setup some scaled font face objects for these settings, and switch between them, rather than specifying the font face, font size etc every time.\n",
    "\n",
    "The simplest (and crudest) way to specify a font in Cairo is with [cairo_select_font_face](http://cairographics.org/manual/cairo-text.html#cairo-select-font-face). The documentation says that the `family` string is a “simplified description”, citing generic examples like “`serif`”, “`sans-serif`” and so on. In fact, on Linux systems, this string is interpreted as a [Fontconfig](http://www.freedesktop.org/wiki/Software/fontconfig/) pattern. But note that the “slant” and “weight” pattern elements are overridden by the corresponding arguments to `select_font_face`."
   ]
  },
  {
   "cell_type": "code",
   "execution_count": null,
   "metadata": {},
   "outputs": [],
   "source": [
    "sample_text = \"Lorem Ipsum\"\n",
    "    \n",
    "@interact \\\n",
    "  (\n",
    "    fontspec = widgets.Text(value = \"Serif\"),\n",
    "    fontsize = (12, 72, 12),\n",
    "    italic = widgets.Checkbox(),\n",
    "    bold = widgets.Checkbox(),\n",
    "  )\n",
    "def select_font_demo(fontspec, fontsize, italic, bold) :\n",
    "    reset()\n",
    "    ctx.translate(pix.dimensions * Vector(0.1, 0.6))\n",
    "    ctx.select_font_face \\\n",
    "      (\n",
    "        family = fontspec,\n",
    "        slant = (CAIRO.FONT_SLANT_NORMAL, CAIRO.FONT_SLANT_ITALIC)[italic],\n",
    "        weight = (CAIRO.FONT_WEIGHT_NORMAL, CAIRO.FONT_WEIGHT_BOLD)[bold],\n",
    "      )\n",
    "    ctx.set_font_size(fontsize)\n",
    "    ctx.move_to((0, 0))\n",
    "    ctx.show_text(sample_text)\n",
    "    display()\n",
    "#end select_font_demo"
   ]
  },
  {
   "cell_type": "markdown",
   "metadata": {},
   "source": [
    "Qahirah supports additional ways of loading fonts, using the various `create` methods of the `FontFace` class: if you have python_freetype ([GitLab](https://gitlab.com/ldo/python_freetype), [GitHub](https://github.com/ldo/python_freetype)) installed, then you can make direct [FreeType](http://www.freetype.org/) calls to load and manipulate `freetype2.Face` objects which you then pass to `qahirah.FontFace.create_for_ft_face` to wrap in Cairo font face objects. Fonts can be specified via Fontconfig pattern strings, or by giving pathnames of font files."
   ]
  },
  {
   "cell_type": "markdown",
   "metadata": {},
   "source": [
    "## Measuring Text"
   ]
  },
  {
   "cell_type": "markdown",
   "metadata": {},
   "source": [
    "Cairo provides two kinds of text metrics: *font extents* and *text extents*. These are explained in detail in the Cairo documentation for the [<tt>cairo_font_extents_t</tt>](http://cairographics.org/manual/cairo-cairo-scaled-font-t.html#cairo-font-extents-t)  and [<tt>cairo_text_extents_t</tt>](http://cairographics.org/manual/cairo-cairo-scaled-font-t.html#cairo-text-extents-t) structures. Broadly, the font extents give overall design metrics for the font, while the text extents are supposed to be precise metrics for a given piece of text.\n",
    "\n",
    "Note that the font extents are defined by the font designer, and need not correspond to the metrics of any actual text. **Do not use font extents for dimensioning any actual clipping bounds**, as this could cause clipping of text. Use them only for calculating layout placements, as they are intended to produce pleasing results this way.\n",
    "\n",
    "The following code illustrates the meanings of the font extents fields. The *baseline* corresponds to the $y$-coordinate of the current point when the text is being drawn, and the other values are used to draw parallel lines offset from this. Note that the ascent value has to be *subtracted* from the baseline $y$-coordinate. The height value is meant to be used to offset successive lines of text; here it is subtracted from the baseline, to show the baseline of what would be the line above."
   ]
  },
  {
   "cell_type": "code",
   "execution_count": null,
   "metadata": {},
   "outputs": [],
   "source": [
    "sample_font_name = \"Liberation Serif\"\n",
    "sample_font = qah.FontFace.create_for_pattern(sample_font_name)\n",
    "sample_font_size = 72\n",
    "text_colour = Colour.grey(0)\n",
    "line_colour = Colour.from_hsva((0.9, 0.5, 1, 0.5))\n",
    "label_font = \\\n",
    "    (qah.Context.create_for_dummy()\n",
    "         .select_font_face(\"serif\", CAIRO.FONT_SLANT_NORMAL, CAIRO.FONT_WEIGHT_NORMAL)\n",
    "         .set_font_size(12)\n",
    "         .scaled_font\n",
    "    )\n",
    "\n",
    "def show_font_metrics() :\n",
    "    reset()\n",
    "    ctx.translate(pix.dimensions * Vector(0.05, 0.6))\n",
    "    ctx.set_font_face(sample_font)\n",
    "    ctx.set_font_size(sample_font_size)\n",
    "    font_extents = ctx.font_extents\n",
    "    print(font_extents) # debug\n",
    "    line_length = ctx.text_extents(sample_text).x_advance * 1.05\n",
    "    ctx.set_source_colour(text_colour)\n",
    "    ctx.move_to((0, 0))\n",
    "    ctx.show_text(sample_text)\n",
    "    ctx.scaled_font = label_font\n",
    "    for \\\n",
    "        y, label \\\n",
    "    in \\\n",
    "        (\n",
    "            (0, \"baseline\"),\n",
    "            (- font_extents.ascent, \"- ascent\"),\n",
    "            (font_extents.descent, \"descent\"),\n",
    "            (- font_extents.height, \"- height\"),\n",
    "        ) \\\n",
    "    :\n",
    "        ctx.set_source_colour(line_colour)\n",
    "        ctx.move_to((0, y)).rel_line_to((line_length, 0))\n",
    "        pos = ctx.current_point\n",
    "        ctx.stroke()\n",
    "        ctx.move_to(pos)\n",
    "        ctx.set_source_colour(text_colour)\n",
    "        ctx.show_text(label)\n",
    "    #end for\n",
    "    display()\n",
    "#end show_font_metrics\n",
    "\n",
    "show_font_metrics()"
   ]
  },
  {
   "cell_type": "markdown",
   "metadata": {},
   "source": [
    "The text metrics give a completely different set of numbers. In the next illustration, the spot on the left illustrates the *origin* at which the text is being drawn, while the spot on the right illustrates the new origin for drawing subsequent text. The offset between the two is a vector defined by the <tt>x_advance</tt> and <tt>y_advance</tt> fields of the text extents.\n",
    "\n",
    "The rest of the text extents fields define the bounding box for the text being drawn. The dimensions of this rectangle are given by the <tt>width</tt> and <tt>height</tt> fields, while its top-left corner is positioned at the coordinates given by the <tt>x_bearing</tt> and <tt>y_bearing</tt> fields, relative to the text origin.\n",
    "\n",
    "One point bears emphasizing:\n",
    "\n",
    "> **This bounding box can be located anywhere relative to the origin and the advance.**\n",
    "\n",
    "For convenience, Qahirah lets you directly obtain the rectangle as *text_extents*`.bounds`, and the advance as the vector *text_extents*`.advance`."
   ]
  },
  {
   "cell_type": "code",
   "execution_count": null,
   "metadata": {},
   "outputs": [],
   "source": [
    "def show_text_metrics() :\n",
    "    reset()\n",
    "    ctx.translate(pix.dimensions * Vector(0.05, 0.6))\n",
    "    ctx.set_font_face(sample_font)\n",
    "    ctx.set_font_size(sample_font_size)\n",
    "    text_extents = ctx.text_extents(sample_text)\n",
    "    print(text_extents) # debug\n",
    "    ctx.set_source_colour(text_colour)\n",
    "    ctx.move_to((0, 0))\n",
    "    ctx.show_text(sample_text)\n",
    "    ctx.scaled_font = label_font\n",
    "    ctx.set_source_colour(line_colour)\n",
    "    ctx.new_path()\n",
    "    ctx.rectangle(text_extents.bounds)\n",
    "    ctx.stroke()\n",
    "    for \\\n",
    "        pos \\\n",
    "    in \\\n",
    "        (\n",
    "            Vector(0, 0),\n",
    "            text_extents.advance,\n",
    "        ) \\\n",
    "    :\n",
    "        ctx.arc(pos, 4, 0, qah.circle, False)\n",
    "        ctx.fill()\n",
    "    #end for\n",
    "    display()\n",
    "#end show_text_metrics\n",
    "\n",
    "show_text_metrics()"
   ]
  },
  {
   "cell_type": "markdown",
   "metadata": {},
   "source": [
    "## Horizontally Aligning Text"
   ]
  },
  {
   "cell_type": "markdown",
   "metadata": {},
   "source": [
    "There is often a need to draw text horizontally centred or right-aligned. The basic technique is very simple: use the <tt>x_advance</tt> field returned from the text metrics as the measure of the width of the text, and you can adjust the starting point for drawing the text appropriately.\n",
    "\n",
    "The following routine demonstrates the effect of a range of possible alignments, controlled by an <tt>align</tt> parameter that varies continuously from 0 for fully left-aligned, through 0.5 for centred, to 1.0 for fully right-aligned."
   ]
  },
  {
   "cell_type": "code",
   "execution_count": null,
   "metadata": {},
   "outputs": [],
   "source": [
    "@interact(align = (0.0, 1.0, 0.05))\n",
    "def text_alignment_demo(align) :\n",
    "    reset()\n",
    "    sample_text = \\\n",
    "        [\n",
    "            \"Lorem Ipsum Dolor\",\n",
    "            \"Sit Amet\",\n",
    "        ]\n",
    "    ctx.translate(pix.dimensions * Vector(0.5, 0.5))\n",
    "    ctx.set_font_face(sample_font)\n",
    "    ctx.set_font_size(36)\n",
    "    align_point = Vector(0, 0 - ctx.font_extents.height * (len(sample_text) - 1) / 2)\n",
    "    ctx.move_to((0, -100))\n",
    "    ctx.rel_line_to((0, 200))\n",
    "    ctx.source_colour = line_colour\n",
    "    ctx.stroke()\n",
    "    ctx.source_colour = text_colour\n",
    "    for line in sample_text :\n",
    "        text_width = ctx.text_extents(line).x_advance\n",
    "        ctx.move_to(align_point - Vector(align * text_width, 0))\n",
    "        ctx.show_text(line)\n",
    "        align_point += Vector(0, ctx.font_extents.height)\n",
    "    #end for\n",
    "    display()\n",
    "#end text_alignment_demo"
   ]
  },
  {
   "cell_type": "markdown",
   "metadata": {},
   "source": [
    "**Exercise:** What happens if you allow values for <tt>align</tt> outside of the $[0, 1]$ interval?"
   ]
  },
  {
   "cell_type": "markdown",
   "metadata": {},
   "source": [
    "## Vertically Aligning Text"
   ]
  },
  {
   "cell_type": "markdown",
   "metadata": {},
   "source": [
    "There is also sometimes a need to align text vertically—for example, for drawing a label in an on-screen button. This can be done either based on the text metrics of the specific label text, or on the overall font metrics."
   ]
  },
  {
   "cell_type": "markdown",
   "metadata": {},
   "source": [
    "### Vertical Alignment On The Text Metrics"
   ]
  },
  {
   "cell_type": "markdown",
   "metadata": {},
   "source": [
    "The idea here is to vertically centre the bounding box of the text about the desired $y$-coordinate. If you remember, the height of the bounding box is the `height` field of the `text_extents`, while the vertical offset from the text origin to the top of the bounding box is the `y_bearing` field (usually negative).\n",
    "\n",
    "If we use $y_o$ for the $y$-coordinate of the text origin, $b_y$ for the $y$-bearing, $h$ for the height of the bounding box, $y_t$ for the top of the bounding box and $y_b$ for the bottom of the bounding box, then\n",
    "\n",
    "$$y_t = y_o + b_y$$\n",
    "\n",
    "and\n",
    "\n",
    "$$y_b = y_t + h = y_o + b_y + h$$\n",
    "\n",
    "from which the mid $y$-coordinate of the bounding box, $y_m$, is\n",
    "\n",
    "$$y_m = {{y_t + y_b} \\over 2} = {y_o + b_y + {h \\over 2}}$$\n",
    "\n",
    "Therefore, given the desired vertical midpoint $y_m$ for the bounding box of the text, the necessary $y$-origin at which to draw it is\n",
    "\n",
    "$$y_o = {y_m - b_y - {h \\over 2}}$$\n",
    "\n",
    "In the following code, $y_m$ comes from `label_pos.y`."
   ]
  },
  {
   "cell_type": "code",
   "execution_count": null,
   "metadata": {},
   "outputs": [],
   "source": [
    "def vert_align_text_metrics() :\n",
    "    reset()\n",
    "    label_pos = pix.dimensions * Vector(0.1, 0.5)\n",
    "    ctx.source_colour = line_colour\n",
    "    ctx.move_to(label_pos + Vector(- 300, 0))\n",
    "    ctx.rel_line_to(Vector(900, 0))\n",
    "    ctx.stroke()\n",
    "    ctx.source_colour = text_colour\n",
    "    ctx.set_font_face(sample_font)\n",
    "    ctx.set_font_size(72)\n",
    "    text_extents = ctx.text_extents(sample_text)\n",
    "    ctx.move_to(label_pos + Vector(0, - text_extents.y_bearing - text_extents.height / 2))\n",
    "    ctx.show_text(sample_text)\n",
    "    display()\n",
    "#end vert_align_text_metrics\n",
    "\n",
    "vert_align_text_metrics()"
   ]
  },
  {
   "cell_type": "markdown",
   "metadata": {},
   "source": [
    "### Vertical Alignment On The Font Metrics"
   ]
  },
  {
   "cell_type": "markdown",
   "metadata": {},
   "source": [
    "Similar to the above, this time the bounding box we wish to centre vertically is computed from the font metrics. Using the same symbols $y_t$, $y_b$, $y_m$ as before for the top, bottom and middle of the bounding box and $y_o$ for the text $y$-origin, this time adding $a$ for the font ascent and $d$ for the font descent (both positive), then\n",
    "\n",
    "$$y_t = y_o - a$$\n",
    "$$y_b = y_o + d$$\n",
    "\n",
    "from which\n",
    "\n",
    "$$y_m = {{y_t + y_b} \\over 2} = y_o + {{d - a} \\over 2}$$\n",
    "\n",
    "Therefore, for a given $y_m$, the necessary text $y$-origin is\n",
    "\n",
    "$$y_o = y_m + {{a - d} \\over 2}$$\n",
    "\n",
    "As before, $y_m$ in the following code comes from `label_pos.y`."
   ]
  },
  {
   "cell_type": "code",
   "execution_count": null,
   "metadata": {},
   "outputs": [],
   "source": [
    "def vert_align_font_metrics() :\n",
    "    reset()\n",
    "    label_pos = pix.dimensions * Vector(0.1, 0.5)\n",
    "    ctx.source_colour = line_colour\n",
    "    ctx.move_to(label_pos + Vector(- 300, 0))\n",
    "    ctx.rel_line_to((900, 0))\n",
    "    ctx.stroke()\n",
    "    ctx.source_colour = text_colour\n",
    "    ctx.set_font_face(sample_font)\n",
    "    ctx.set_font_size(72)\n",
    "    font_extents = ctx.font_extents\n",
    "    ctx.move_to(label_pos + Vector(0, (font_extents.ascent - font_extents.descent) / 2))\n",
    "    ctx.show_text(sample_text)\n",
    "    display()\n",
    "#end vert_align_font_metrics\n",
    "\n",
    "vert_align_font_metrics()"
   ]
  },
  {
   "cell_type": "markdown",
   "metadata": {},
   "source": [
    "## Characters And Glyphs"
   ]
  },
  {
   "cell_type": "markdown",
   "metadata": {},
   "source": [
    "Text nowadays is almost universally encoded as [Unicode](http://unicode.org/). But there are different ways of representing Unicode text. In C, the `char` type is only 8 bits. Therefore, to keep Unicode text as an array of `char` values, the text is turned into [UTF-8](http://unicode.org/faq/utf_bom.html) encoding. Text files are also usually encoded this way. Cairo expects strings to be encoded the same way.\n",
    "\n",
    "In Python 3, all in-memory text strings are Unicode-encoded. Each element of a `str` object corresponds to a Unicode *code point*. The closest equivalent of the C `char` array is the [`bytes`](https://docs.python.org/3/library/stdtypes.html#binary-sequence-types-bytes-bytearray-memoryview) type. In particular, it is possible to convert between Unicode strings and UTF-8-encoded bytes objects, e.g."
   ]
  },
  {
   "cell_type": "code",
   "execution_count": null,
   "metadata": {},
   "outputs": [],
   "source": [
    "s = \"spell “Bézier” properly\"\n",
    "b = s.encode(\"utf-8\")\n",
    "s2 = b.decode(\"utf-8\")\n",
    "print(type(s), s)\n",
    "print(type(b), b)\n",
    "print(s == s2)"
   ]
  },
  {
   "cell_type": "markdown",
   "metadata": {},
   "source": [
    "Qahirah lets you use Python strings wherever it makes sense to do so, and will automatically handle the translation to and from UTF-8 encoding for the underlying Cairo calls.\n",
    "\n",
    "In a font, each character shape is called a *glyph*. In most font formats, each glyph is identified by a non-negative integer *glyph code*. Whereas Unicode is a standard character encoding, there is no such thing as a standard glyph encoding (beyond minimal conventions such as glyph 0 is always supposed to be the “missing” glyph, and glyph 1 is always supposed to be blank). Indeed, a font may offer alternative forms of the same character, ligatures etc.\n",
    "\n",
    "The main Cairo functions for rendering and measuring Unicode-encoded text have alternatives that take arrays of glyph codes and placements. Cairo also offers the function [`cairo_scaled_font_text_to_glyphs`](http://cairographics.org/manual/cairo-cairo-scaled-font-t.html#cairo-scaled-font-text-to-glyphs) which will do a simpleminded conversion of Unicode text to glyphs representation—more elaborate functionality is left for layout libraries that understand something of OpenType font features and the like, such as [HarfBuzz](https://www.freedesktop.org/wiki/Software/HarfBuzz/). The rationale is that, having done whatever is necessary in the layout library to convert a run of text to a high-quality glyphs representation, including fine-tuning the relative positions of the glyphs, it can then be left to Cairo to do the actual low-level rendering or measuring of the text."
   ]
  },
  {
   "cell_type": "markdown",
   "metadata": {},
   "source": [
    "## Font Size Subtleties"
   ]
  },
  {
   "cell_type": "markdown",
   "metadata": {},
   "source": [
    "The following cell demonstrates a subtle point about font rendering. A naïve scan-conversion of the font outline geometry can produce quite ugly results at all but the highest pixel resolutions. The fix for this is a technique called “hinting”, which actually *distorts* the font outlines in order to achieve more pleasing and consistent rendering results.\n",
    "\n",
    "This example code exaggerates the effect of hinting: if you choose a scale factor less than 1, then the resolution at which the text is being rendered is deliberately lowered, before scaling up the results again for display. You can also turn the hinting and antialiasing on and off, and choose a different font, and observe the results on the text. Note the following:\n",
    "\n",
    "* With hinting off, the glyph shapes and positions remain the same regardless of scaling. This leads to noticeable irregularities in the rendering.\n",
    "* With hinting on, the glyph shapes and positions undergo small adjustments to allow more regular rendering.\n",
    "\n",
    "The effect is most noticeable at the smallest scaling values, and with antialiasing turned off."
   ]
  },
  {
   "cell_type": "code",
   "execution_count": null,
   "metadata": {},
   "outputs": [],
   "source": [
    "@interact \\\n",
    "  (\n",
    "    fontspec = widgets.Text(value = \"Serif\"),\n",
    "    scale = widgets.RadioButtons(options = list((str(x), x) for x in [0.25, 0.5, 0.7, 1, 3, 10, 30]), value = 1),\n",
    "    hint = widgets.Checkbox(value = True),\n",
    "    antialias = widgets.Checkbox(value = True)\n",
    "  )\n",
    "def optical_size_demo(fontspec, scale, hint, antialias) :\n",
    "    reset()\n",
    "    sample_font = qah.FontFace.create_for_pattern(fontspec)\n",
    "    temppix = qah.ImageSurface.create \\\n",
    "      (\n",
    "        format = pix.format,\n",
    "        dimensions = round(pix.dimensions * scale)\n",
    "      )\n",
    "    font_options = ctx.font_options\n",
    "    font_options.hint_style = (CAIRO.HINT_STYLE_NONE, CAIRO.HINT_STYLE_DEFAULT)[hint]\n",
    "    font_options.antialias = (CAIRO.ANTIALIAS_NONE, CAIRO.ANTIALIAS_DEFAULT)[antialias]\n",
    "    (qah.Context.create(temppix)\n",
    "        .set_source_colour(Colour.grey(1))\n",
    "        .paint()\n",
    "        .set_source_colour(text_colour)\n",
    "        .set_matrix(Matrix.scale(scale))\n",
    "        .translate(pix.dimensions * Vector(0.1, 0.5))\n",
    "        .set_font_face(sample_font)\n",
    "        .set_font_size(72)\n",
    "        .set_font_options(font_options)\n",
    "        .move_to((0, 0))\n",
    "        .show_text(sample_text)\n",
    "    )\n",
    "    temppix.flush()\n",
    "    (ctx\n",
    "         .set_source\n",
    "           (\n",
    "             qah.Pattern.create_for_surface(temppix)\n",
    "                .set_matrix(Matrix.scale(scale))\n",
    "                .set_filter((CAIRO.FILTER_NEAREST, CAIRO.FILTER_GOOD)[scale > 1])\n",
    "           )\n",
    "        .paint()\n",
    "    )\n",
    "    display()\n",
    "#end optical_size_demo"
   ]
  },
  {
   "cell_type": "markdown",
   "metadata": {},
   "source": [
    "## The Font Matrix"
   ]
  },
  {
   "cell_type": "markdown",
   "metadata": {},
   "source": [
    "Cairo does not just provide a call for setting the font size for drawing text: you can set a general **font matrix**, allowing for translation, scaling and rotation of the text. Think of `set_font_size` is a convenience wrapper for setting a matrix with just a scaling component. You will note that there is no `get_font_size` call in Cairo (which is why Qahirah does not provide a read/write `font_size` property); but you can get and set the entire `font_matrix`.\n",
    "\n",
    "The following example shows some of the possibilities achievable with a general font matrix. Notice how the skew, in particular, gives a faux-italic effect: this is the actual technique used in Cairo (actually, in FreeType, which Cairo relies on for text rendering) to implement the `FT_SYNTHESIZE_OBLIQUE` option."
   ]
  },
  {
   "cell_type": "code",
   "execution_count": null,
   "metadata": {},
   "outputs": [],
   "source": [
    "@interact \\\n",
    "  (\n",
    "    translate_x = (-40, +40, 10),\n",
    "    translate_y = (-40, +40, 10),\n",
    "    rotate = (-90, +90, 5),\n",
    "    scale_x = (10, 50, 10),\n",
    "    scale_y = (10, 50, 10),\n",
    "    skew_x = widgets.FloatSlider(min = -1, max = +1, value = 0, step = 0.1),\n",
    "    skew_y = widgets.FloatSlider(min = -1, max = +1, value = 0, step = 0.1),\n",
    "  )\n",
    "def font_matrix_demo(translate_x, translate_y, rotate, scale_x, scale_y, skew_x, skew_y) :\n",
    "    reset()\n",
    "    ctx.translate(pix.dimensions * Vector(0.1, 0.6))\n",
    "    ctx.select_font_face(\"Sans-Serif\", CAIRO.FONT_SLANT_NORMAL, CAIRO.FONT_WEIGHT_NORMAL)\n",
    "    ctx.font_matrix = \\\n",
    "        (\n",
    "            Matrix.translate((translate_x, translate_y))\n",
    "        *\n",
    "            Matrix.rotate(rotate * qah.deg)\n",
    "        *\n",
    "            Matrix.scale((scale_x, scale_y))\n",
    "        *\n",
    "            Matrix.skew((skew_x, skew_y))\n",
    "        )\n",
    "    ctx.move_to((0, 0))\n",
    "    ctx.show_text(sample_text)\n",
    "    ctx.show_text(sample_text)\n",
    "    # do it twice to demonstrate where current point is left\n",
    "    # after drawing each piece of text\n",
    "    display()\n",
    "#end font_matrix_demo"
   ]
  },
  {
   "cell_type": "markdown",
   "metadata": {},
   "source": [
    "## Fitting Text To A Given Width"
   ]
  },
  {
   "cell_type": "markdown",
   "metadata": {},
   "source": [
    "Sometimes you need to draw a sequence of lines containing variable amounts of text, within a column of fixed width. Some of the lines may be long: if you choose a font for all the text that is small enough not to truncate those lines, then the rest of the text may look too small. But if you choose a smaller font just for the long lines, then that looks odd, too.\n",
    "\n",
    "A good compromise is to adjust the horizontal scaling component of the font matrix on the long lines, so that they will fit. (The vertical scaling is the same for all the lines.) This distorts the text, but I think this is not as bad as the other choices. Of course, the short lines don’t need to be distorted, so they can keep uniform scaling in their font matrix.\n",
    "\n",
    "Anyway, see the effect for yourself:"
   ]
  },
  {
   "cell_type": "code",
   "execution_count": null,
   "metadata": {},
   "outputs": [],
   "source": [
    "# common parameters for text-fitting examples, including\n",
    "# text lines with a range of widths\n",
    "\n",
    "text_fit_widths = (25, 600, 25)\n",
    "text_fit_sizes = (5, 30, 5)\n",
    "text_fit_example_items = \\\n",
    "  (\n",
    "    \"ARABIC LIGATURE UIGHUR KIRGHIZ YEH WITH HAMZA ABOVE WITH ALEF MAKSURA ISOLATED FORM\",\n",
    "    \"BALINESE MUSICAL SYMBOL COMBINING GONG\",\n",
    "    \"CYRILLIC CAPITAL LETTER YU\",\n",
    "    \"DEVANAGARI OM\",\n",
    "    \"GREEK SMALL LETTER IOTA WITH DIALYTIKA AND TONOS\",\n",
    "    \"MONGOLIAN LETTER SIBE DA\",\n",
    "    \"TILDE\",\n",
    "  )"
   ]
  },
  {
   "cell_type": "code",
   "execution_count": null,
   "metadata": {},
   "outputs": [],
   "source": [
    "@interact \\\n",
    "  (\n",
    "    fit_width = text_fit_widths,\n",
    "    font_size = text_fit_sizes,\n",
    "  )\n",
    "def hor_text_fit_demo_1(fit_width, font_size) :\n",
    "    reset()\n",
    "    ctx.select_font_face(\"Sans-Serif\", CAIRO.FONT_SLANT_NORMAL, CAIRO.FONT_WEIGHT_NORMAL)\n",
    "    uniform_font_matrix = Matrix.scale(font_size)\n",
    "    ctx.font_matrix = uniform_font_matrix\n",
    "    line_spacing = ctx.scaled_font.font_extents.height\n",
    "    ctx.move_to((20, 20))\n",
    "    pos = ctx.current_point\n",
    "    ctx.source_colour = line_colour\n",
    "    (ctx\n",
    "        .move_to((pos.x, 0))\n",
    "        .rel_line_to((0, pix.dimensions.y))\n",
    "        .move_to((pos.x + fit_width, 0))\n",
    "        .rel_line_to((0, pix.dimensions.y))\n",
    "        .set_line_width(1)\n",
    "        .stroke()\n",
    "    )\n",
    "    ctx.source_colour = text_colour\n",
    "    ctx.move_to(pos)\n",
    "    for item in text_fit_example_items :\n",
    "        pos = ctx.current_point\n",
    "        ctx.font_matrix = uniform_font_matrix\n",
    "        text_width = ctx.text_extents(item).advance.x\n",
    "        if text_width > fit_width :\n",
    "            ctx.font_matrix = Matrix.scale((fit_width / text_width, 1)) * uniform_font_matrix\n",
    "        #end if\n",
    "        ctx.show_text(item)\n",
    "        ctx.move_to(pos + Vector(0, line_spacing))\n",
    "    #end for\n",
    "    display()\n",
    "#end hor_text_fit_demo_1"
   ]
  },
  {
   "cell_type": "markdown",
   "metadata": {},
   "source": [
    "Here is an alternative version where I used an initial fixed text size for determining the metrics, which were then used to scale to the actual text size."
   ]
  },
  {
   "cell_type": "code",
   "execution_count": null,
   "metadata": {},
   "outputs": [],
   "source": [
    "@interact \\\n",
    "  (\n",
    "    fit_width = text_fit_widths,\n",
    "    font_size = text_fit_sizes,\n",
    "  )\n",
    "def hor_text_fit_demo_1a(fit_width, font_size) :\n",
    "    reset()\n",
    "    ctx.select_font_face(\"Sans-Serif\", CAIRO.FONT_SLANT_NORMAL, CAIRO.FONT_WEIGHT_NORMAL)\n",
    "    measure_font_size = 100 # something large to reduce rounding errors on integer metrics\n",
    "    measure_font_matrix = Matrix.scale(measure_font_size)\n",
    "    uniform_font_matrix = Matrix.scale(font_size)\n",
    "    ctx.font_matrix = uniform_font_matrix\n",
    "    line_spacing = ctx.scaled_font.font_extents.height\n",
    "    ctx.move_to((20, 20))\n",
    "    pos = ctx.current_point\n",
    "    ctx.source_colour = line_colour\n",
    "    (ctx\n",
    "        .move_to((pos.x, 0))\n",
    "        .rel_line_to((0, pix.dimensions.y))\n",
    "        .move_to((pos.x + fit_width, 0))\n",
    "        .rel_line_to((0, pix.dimensions.y))\n",
    "        .set_line_width(1)\n",
    "        .stroke()\n",
    "    )\n",
    "    ctx.source_colour = text_colour\n",
    "    ctx.move_to(pos)\n",
    "    for item in text_fit_example_items :\n",
    "        pos = ctx.current_point\n",
    "        ctx.font_matrix = measure_font_matrix\n",
    "        text_width = ctx.text_extents(item).advance.x * font_size / measure_font_size\n",
    "        ctx.font_matrix = uniform_font_matrix\n",
    "        if text_width > fit_width :\n",
    "            ctx.font_matrix = Matrix.scale((fit_width / text_width, 1)) * uniform_font_matrix\n",
    "        #end if\n",
    "        ctx.show_text(item)\n",
    "        ctx.move_to(pos + Vector(0, line_spacing))\n",
    "    #end for\n",
    "    display()\n",
    "#end hor_text_fit_demo_1a"
   ]
  },
  {
   "cell_type": "markdown",
   "metadata": {},
   "source": [
    "You may notice that the above does not fit the text in the width exactly: it tends to be too wide or too narrow. I’m not sure why this is--some kind of rounding of text metrics?\n",
    "\n",
    "An alternative, but more complex, way of doing it, is to render the text at uniform scaling into a separate `ImageSurface`, which is then non-uniformly scaled, with horizontal squashing as necessary, into the final image:"
   ]
  },
  {
   "cell_type": "code",
   "execution_count": null,
   "metadata": {},
   "outputs": [],
   "source": [
    "@interact \\\n",
    "  (\n",
    "    fit_width = text_fit_widths,\n",
    "    font_size = text_fit_sizes,\n",
    "  )\n",
    "def hor_text_fit_demo_2(fit_width, font_size) :\n",
    "    reset()\n",
    "    #ctx.select_font_face(\"Sans-Serif\", CAIRO.FONT_SLANT_NORMAL, CAIRO.FONT_WEIGHT_NORMAL)\n",
    "    ctx.set_font_face(sample_font)\n",
    "    uniform_font_matrix = Matrix.scale(font_size)\n",
    "    ctx.font_matrix = uniform_font_matrix\n",
    "    line_spacing = ctx.scaled_font.font_extents.height\n",
    "    ctx.move_to((20, 20))\n",
    "    pos = ctx.current_point\n",
    "    ctx.source_colour = line_colour\n",
    "    (ctx\n",
    "        .move_to((pos.x, 0))\n",
    "        .rel_line_to((0, pix.dimensions.y))\n",
    "        .move_to((pos.x + fit_width, 0))\n",
    "        .rel_line_to((0, pix.dimensions.y))\n",
    "        .set_line_width(1)\n",
    "        .stroke()\n",
    "    )\n",
    "    ctx.source_colour = text_colour\n",
    "    ctx.move_to(pos)\n",
    "    for item in text_fit_example_items :\n",
    "        pos = ctx.current_point\n",
    "        text_width = ctx.text_extents(item).advance.x\n",
    "        if text_width > fit_width :\n",
    "            text_bounds = ctx.text_extents(item).bounds\n",
    "            offscreen = qah.ImageSurface.create \\\n",
    "              (\n",
    "                format = CAIRO.FORMAT_ARGB32,\n",
    "                dimensions = round(ctx.user_to_device_distance(text_bounds.dimensions))\n",
    "              )\n",
    "            (qah.Context.create(offscreen)\n",
    "                .scale(offscreen.dimensions / text_bounds.dimensions) # match destination resolution\n",
    "                .translate(- text_bounds.topleft)\n",
    "                .set_operator(CAIRO.OPERATOR_SOURCE)\n",
    "                .set_source_colour(Colour.grey(0, 0))\n",
    "                .paint()\n",
    "                .set_source_colour(ctx.source_colour)\n",
    "                .set_scaled_font(ctx.scaled_font)\n",
    "                .move_to((0, 0))\n",
    "                .show_text(item)\n",
    "            )\n",
    "            offscreen.flush()\n",
    "            (ctx\n",
    "                .save()\n",
    "                .set_source\n",
    "                  (\n",
    "                    qah.Pattern.create_for_surface(offscreen)\n",
    "                        .set_extend(CAIRO.EXTEND_NONE)\n",
    "                        .set_matrix\n",
    "                          (\n",
    "                                Matrix.scale(text_bounds.dimensions / offscreen.dimensions)\n",
    "                            *\n",
    "                                Matrix.translate(- text_bounds.topleft)\n",
    "                            *\n",
    "                                Matrix.scale(Vector(text_width / fit_width, 1))\n",
    "                            *\n",
    "                                Matrix.translate(- ctx.current_point)\n",
    "                          )\n",
    "                  )\n",
    "                .paint()\n",
    "                .restore()\n",
    "            )\n",
    "        else :\n",
    "            ctx.show_text(item)\n",
    "        #end if\n",
    "        ctx.move_to(pos + Vector(0, line_spacing))\n",
    "    #end for\n",
    "    display()\n",
    "#end hor_text_fit_demo_2"
   ]
  },
  {
   "cell_type": "markdown",
   "metadata": {},
   "source": [
    "As you can see, this seems to give a more accurate fit."
   ]
  },
  {
   "cell_type": "code",
   "execution_count": null,
   "metadata": {},
   "outputs": [],
   "source": []
  }
 ],
 "metadata": {
  "kernelspec": {
   "display_name": "Python 3",
   "language": "python",
   "name": "python3"
  },
  "language_info": {
   "codemirror_mode": {
    "name": "ipython",
    "version": 3
   },
   "file_extension": ".py",
   "mimetype": "text/x-python",
   "name": "python",
   "nbconvert_exporter": "python",
   "pygments_lexer": "ipython3",
   "version": "3.9.2"
  }
 },
 "nbformat": 4,
 "nbformat_minor": 1
}
