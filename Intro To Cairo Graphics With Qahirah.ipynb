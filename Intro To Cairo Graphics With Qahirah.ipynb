{
 "cells": [
  {
   "cell_type": "markdown",
   "metadata": {},
   "source": [
    "# Intro To Cairo Graphics With Qahirah #\n",
    "\n",
    "\n",
    "[Cairo](https://www.cairographics.org/) is a powerful 2D graphics API, with many useful capabilities. Qahirah is a Cairo wrapper for Python which tries to take advantage of Python’s language versatility. The aim of Qahirah is to produce a binding that makes Cairo look as though it was written for Python. If you find the [Cairo reference material](https://www.cairographics.org/manual/) a bit overwhelming, hopefully this notebook will shed some light on at least the basics."
   ]
  },
  {
   "cell_type": "code",
   "execution_count": null,
   "metadata": {},
   "outputs": [],
   "source": [
    "from IPython.display import \\\n",
    "    display_png\n",
    "\n",
    "import qahirah as qah\n",
    "from qahirah import \\\n",
    "    CAIRO, \\\n",
    "    Colour, \\\n",
    "    Vector"
   ]
  },
  {
   "cell_type": "markdown",
   "metadata": {},
   "source": [
    "## Basic Cairo Objects: Surface And Context ##\n",
    "\n",
    "The Cairo API consists of a number of different object types, represented in Qahirah by corresponding Python classes. The core of them is the _surface_ and the _context_.\n",
    "\n",
    "A _surface_ (type [`cairo_surface_t`](https://www.cairographics.org/manual/cairo-cairo-surface-t.html) in Cairo, class `Surface` in Qahirah) holds the result of drawing. There are different types of surfaces, perhaps the most common being an [_image surface_](https://www.cairographics.org/manual/cairo-Image-Surfaces.html), represented by the `ImageSurface` type in Qahirah. This holds a two-dimensional array of pixels, of a specified width, height and format. Other surface types allow rendering directly to file formats such as PDF and SVG, but this introduction will concentrate on image surfaces.\n",
    "\n",
    "While Cairo supports different [formats](https://www.cairographics.org/manual/cairo-Image-Surfaces.html#cairo-format-t) of image surfaces, the most common ones you are likely to encounter are `CAIRO.IMAGE_FORMAT_RGB24` and `CAIRO.IMAGE_FORMAT_ARGB32` (to use their names in Qahirah). The former includes 8 bits in a pixel for each of the red, green and blue components of the colour, while the latter adds 8 bits of _alpha transparency_ , which can be used to produce overlay effects."
   ]
  },
  {
   "cell_type": "code",
   "execution_count": null,
   "metadata": {},
   "outputs": [],
   "source": [
    "pix = qah.ImageSurface.create \\\n",
    "  (\n",
    "    dimensions = (256, 256),\n",
    "    format = CAIRO.FORMAT_ARGB32\n",
    "  )\n",
    "\n",
    "figure_dimensions = pix.dimensions\n",
    "\n",
    "def display() :\n",
    "    \"(re)displays what has been drawn.\"\n",
    "    display_png(pix.to_png_bytes(), raw = True)\n",
    "#end display"
   ]
  },
  {
   "cell_type": "markdown",
   "metadata": {},
   "source": [
    "A _context_ (type [`cairo_t`](https://www.cairographics.org/manual/cairo-cairo-t.html) in Cairo, class `Context` in Qahirah) holds settings for drawing into a surface. These consist of information such as what font to use for text, what line thickness and dashing to use for drawing lines, and what colour or pattern to use to actually render pixels. This is all basically information that is only needed while drawing is taking place, and can be discarded afterwards.\n",
    "\n",
    "A context is created by specifying a surface into which it will do its drawing:"
   ]
  },
  {
   "cell_type": "code",
   "execution_count": null,
   "metadata": {},
   "outputs": [],
   "source": [
    "ctx = qah.Context.create(pix)"
   ]
  },
  {
   "cell_type": "markdown",
   "metadata": {},
   "source": [
    "Pixels in an `ImageSurface` are commonly undefined to begin with; they can all be initialized to a common colour or pattern with the `paint()` method:"
   ]
  },
  {
   "cell_type": "code",
   "execution_count": null,
   "metadata": {},
   "outputs": [],
   "source": [
    "ctx.source_colour = Colour.x11[\"sea green\"]\n",
    "ctx.paint()\n",
    "\n",
    "display()"
   ]
  },
  {
   "cell_type": "markdown",
   "metadata": {},
   "source": [
    "## Basic Geometry: Paths ##\n",
    "\n",
    "Shapes drawn in Cairo are represented as [_paths_](https://www.cairographics.org/manual/cairo-Paths.html). Cairo itself provides very limited tools for manipulating these, but Qahirah wraps them in its own `Path` class, which offers a lot more.\n",
    "\n",
    "A path consists of one or more disjoint _segments_ , each of which is defined by a connected series of straight lines and curves. A segment may be _closed_ , in which case the end point of the last line or curve is implicitly joined to the start point of the first line or curve, or it may be _open_ , in which case no such joining is implied.\n",
    "\n",
    "To actually draw pixels into a surface, the path has to be either _filled_ or _stroked_. _Filling_ a path means drawing the current source colour or pattern into its interior bounds, while _stroking_ means the source colour or pattern is used to draw a line of specified thickness along the path. (Note that filling an open path actually causes it to be treated as a _closed_ path.)\n",
    "\n",
    "_Coordinates_ of points in Cairo are specified as pairs of floating-point numbers $(x, y)$. In the _default_ coordinate system, $x$ values increase from left to right, while $y$ values increase from top to bottom, with $(x, y) = (0, 0)$ located at the top left of the drawing surface.\n",
    "\n",
    "When drawing into an `ImageSurface` with the default transformation, these coordinates map directly to pixel positions, rounded to the nearest integer. However, the ability to specify fractional coordinates is actually very useful, when doing _resolution-independent_ drawing. This will become apparent later.\n",
    "\n",
    "In Cairo, path construction is done by specifying point coordinates as separate _x_ and _y_ arguments. In Qahirah, these are combined into a single `Vector` object. More will be divulged about this later, but for now, just note the need for an extra pair of parentheses around coordinate argument pairs.\n"
   ]
  },
  {
   "cell_type": "code",
   "execution_count": null,
   "metadata": {},
   "outputs": [],
   "source": [
    "ctx.move_to((100, 100))\n",
    "ctx.line_to((200, 200))\n",
    "ctx.source_colour = Colour.x11[\"goldenrod\"]\n",
    "ctx.line_width = 4\n",
    "ctx.stroke()\n",
    "\n",
    "display()"
   ]
  },
  {
   "cell_type": "markdown",
   "metadata": {},
   "source": [
    "Qahirah allows _method chaining_ of drawing calls in a `Context` object. This means that each such method call ends with `return self`, allowing another method call to be directly appended. This is useful because such calls commonly come in long sequences. Also, you have already seen the setting of the `source_colour` property of a `Context` to allow drawing with a simple single colour; such properties have `set()` method counterparts which can be used in method chaining.\n"
   ]
  },
  {
   "cell_type": "code",
   "execution_count": null,
   "metadata": {},
   "outputs": [],
   "source": [
    "(ctx\n",
    "    .set_source_colour(Colour.x11[\"turquoise\"])\n",
    "    .paint()\n",
    "    .move_to((100, 100))\n",
    "    .line_to((200, 200))\n",
    "    .line_to((150, 100))\n",
    "    .set_source_colour(Colour.x11[\"midnight blue\"])\n",
    "    .fill()\n",
    ")\n",
    "\n",
    "display()"
   ]
  },
  {
   "cell_type": "markdown",
   "metadata": {},
   "source": [
    "Path curves in Cairo are defined in terms of the mathematical entities known as _cubic Bézier curves_. If you are interested in the details, there is an accompanying notebook that goes into them. But for now, just note that a curve segment is defined by four _control points_ : the curve starts at one and ends at another, but it passes “near” the two intermediate points, which can be used to adjust its shape in various useful ways."
   ]
  },
  {
   "cell_type": "code",
   "execution_count": null,
   "metadata": {},
   "outputs": [],
   "source": [
    "(ctx\n",
    "    .set_source_colour(Colour.x11[\"peachpuff1\"])\n",
    "    .paint()\n",
    "    .set_source_colour(Colour.x11[\"blue violet\"])\n",
    "    .move_to((50, 50))\n",
    "    .curve_to((50, 150), (150, 50), (200, 200))\n",
    "    .set_line_width(8)\n",
    "    .stroke()\n",
    ")\n",
    "\n",
    "display()"
   ]
  },
  {
   "cell_type": "markdown",
   "metadata": {},
   "source": [
    "But while Bézier curves can be used to produce some quite elaborate designs, there are some simple shapes that are used quite frequently, like circles (or arcs of circles) and rectangles. Cairo has special calls just to produce arcs and (axis-aligned) rectangles; Qahirah also provides a convenience wrapper to draw whole circles.\n",
    "\n",
    "Note that Qahirah has a special `Rect` type for representing rectangle geometry. This object allows for some useful manipulations."
   ]
  },
  {
   "cell_type": "code",
   "execution_count": null,
   "metadata": {},
   "outputs": [],
   "source": [
    "rect1 = qah.Rect.from_corners((175, 175), (150, 150))\n",
    "(ctx\n",
    "    .set_source_colour(Colour.x11[\"light pink\"])\n",
    "    .paint()\n",
    "    .set_source_colour(Colour.x11[\"deep sky blue\"])\n",
    "    .circle(centre = (100, 100), radius = 35)\n",
    "    .fill()\n",
    "    .rectangle(rect1)\n",
    "    .fill()\n",
    "    .set_source_colour(Colour.x11[\"skyblue3\"])\n",
    "    .rectangle(rect1 + Vector(50, -50))\n",
    "    .fill()\n",
    ")\n",
    "\n",
    "display()"
   ]
  },
  {
   "cell_type": "markdown",
   "metadata": {},
   "source": [
    "## Basic Geometry: Text ##\n",
    "\n",
    "[Text](https://www.cairographics.org/manual/cairo-text.html) is a subject with many intricacies; some of these are detailed in the “Beginning Text” notebook also included in this set. For now, let us just use the “toy” Cairo calls to do some simple text rendering:"
   ]
  },
  {
   "cell_type": "code",
   "execution_count": null,
   "metadata": {
    "scrolled": true
   },
   "outputs": [],
   "source": [
    "(ctx\n",
    "    .set_source_colour(Colour.x11[\"old lace\"])\n",
    "    .paint()\n",
    "    .select_font_face(\"serif\", CAIRO.FONT_SLANT_NORMAL, CAIRO.FONT_WEIGHT_NORMAL)\n",
    "    .set_font_size(24)\n",
    "    .set_source_colour(Colour.x11[\"deepskyblue4\"])\n",
    "    .move_to((50, 100))\n",
    "    .show_text(\"Hello, World!\")\n",
    ")\n",
    "\n",
    "display()"
   ]
  },
  {
   "cell_type": "markdown",
   "metadata": {},
   "source": [
    "The shapes of text glyphs can also become part of a path:"
   ]
  },
  {
   "cell_type": "code",
   "execution_count": null,
   "metadata": {},
   "outputs": [],
   "source": [
    "(ctx\n",
    "    .set_source_colour(Colour.x11[\"darkseagreen3\"])\n",
    "    .paint()\n",
    "    .select_font_face(\"sans serif\", CAIRO.FONT_SLANT_NORMAL, CAIRO.FONT_WEIGHT_NORMAL)\n",
    "    .set_font_size(48)\n",
    "    .move_to((15, 100))\n",
    "    .text_path(\"Hello,\")\n",
    "    .move_to((15, 150))\n",
    "    .text_path(\"World!\")\n",
    "    .set_source_colour(Colour.x11[\"thistle3\"])\n",
    "    .fill_preserve()\n",
    "    .set_source_colour(Colour.x11[\"mediumorchid4\"])\n",
    "    .set_line_width(2)\n",
    "    .stroke()\n",
    ")\n",
    "\n",
    "display()"
   ]
  },
  {
   "cell_type": "markdown",
   "metadata": {},
   "source": [
    "Qahirah includes full support for Cairo’s functions for using [FreeType fonts](https://www.cairographics.org/manual/cairo-FreeType-Fonts.html) and even [user-defined fonts](https://www.cairographics.org/manual/cairo-User-Fonts.html)."
   ]
  },
  {
   "cell_type": "markdown",
   "metadata": {},
   "source": [
    "## Basic Rendering: Source Colours And Patterns ##\n",
    "\n",
    "So far, we have seen use of some predefined colours from the [traditional X11 set](https://en.wikipedia.org/wiki/X11_color_names) to do our drawing. Cairo itself allows specification of arbitrary colours as [_(red, green, blue, alpha)_ tuples](https://www.cairographics.org/manual/cairo-cairo-t.html#cairo-set-source-rgba), where each component is a floating-point value in the range &#91;0,&nbsp;1&#93; (the alpha component can be omitted if it is 1). However, this is not always the most convenient way to define colours. Thus, Qahirah defines a more elaborate `Colour` class which, in addition to _(r, g, b, a)_ components, also allows colours to be specified in terms of _(h, s, v, a)_ , _(h, l, s, a)_ and _(y, i, q, a)_ components, taking advantage of the conversions provided by the standard Python [`colorsys`](https://docs.python.org/3/library/colorsys.html) module. And there is a convenience method for creating pure greyscales. Plus of course the aforementioned X11 colour names.\n",
    "\n",
    "The `Colour` class also offers methods for manipulation of colours in various useful ways, to create derived colours that relate to a starting colour according to some operation like changing the brightness/lightness, saturation and so on."
   ]
  },
  {
   "cell_type": "code",
   "execution_count": null,
   "metadata": {},
   "outputs": [],
   "source": [
    "(ctx\n",
    "    .set_source_colour(Colour.x11[\"ivory2\"])\n",
    "    .paint()\n",
    ")\n",
    "\n",
    "nrsteps = 9\n",
    "for i in range(nrsteps) :\n",
    "    ctx.source_colour = Colour.from_hsva((i / nrsteps, 0.5, 0.75))\n",
    "    ctx.move_to((128, 128))\n",
    "    ctx.arc \\\n",
    "      (\n",
    "        centre = (128, 128),\n",
    "        radius = 96,\n",
    "        angle1 = i / nrsteps * qah.circle,\n",
    "        angle2 = (i + 1) / nrsteps * qah.circle,\n",
    "        negative = False\n",
    "      )\n",
    "    ctx.fill()\n",
    "#end for\n",
    "\n",
    "display()"
   ]
  },
  {
   "cell_type": "markdown",
   "metadata": {},
   "source": [
    "In Cairo, a _source colour_ is merely a special case of a more general _source pattern_. Patterns can also be made up of colour gradients, linear or radial."
   ]
  },
  {
   "cell_type": "code",
   "execution_count": null,
   "metadata": {},
   "outputs": [],
   "source": [
    "linear_gradient = qah.Pattern.create_linear \\\n",
    "  (\n",
    "    p0 = figure_dimensions,\n",
    "    p1 = (0, 0),\n",
    "    colour_stops =\n",
    "        (\n",
    "            (0, Colour.x11[\"darkgoldenrod4\"]),\n",
    "            (1, Colour.x11[\"lightgoldenrod\"]),\n",
    "        )\n",
    "  )\n",
    "radial_gradient = qah.Pattern.create_radial \\\n",
    "  (\n",
    "    c0 = figure_dimensions / 2.5,\n",
    "    r0 = 10,\n",
    "    c1 = figure_dimensions / 2,\n",
    "    r1 = abs(figure_dimensions / 2),\n",
    "    colour_stops =\n",
    "        (\n",
    "            (0, Colour.x11[\"burlywood\"]),\n",
    "            (1, Colour.x11[\"sienna\"]),\n",
    "        )\n",
    "  )\n",
    "\n",
    "(ctx\n",
    "    .set_source(linear_gradient)\n",
    "    .paint()\n",
    "    .set_source(radial_gradient)\n",
    "    .circle(centre = (128, 128), radius = 96)\n",
    "    .fill()\n",
    ")\n",
    "\n",
    "display()"
   ]
  },
  {
   "cell_type": "markdown",
   "metadata": {},
   "source": [
    "You can even take the result of drawing into one `Surface`, and turn that image into a `Pattern` for rendering into another surface."
   ]
  },
  {
   "cell_type": "code",
   "execution_count": null,
   "metadata": {},
   "outputs": [],
   "source": [
    "pix2 = qah.ImageSurface.create \\\n",
    "  (\n",
    "    dimensions = (96, 96),\n",
    "    format = CAIRO.FORMAT_RGB24\n",
    "  )\n",
    "(qah.Context.create(pix2)\n",
    "    .set_source_colour(Colour.x11[\"seashell1\"])\n",
    "    .paint()\n",
    "    .set_source_colour(Colour.x11[\"bisque4\"])\n",
    "    .set_line_width(8)\n",
    "    .move_to((4, 4))\n",
    "    .line_to((92, 92))\n",
    "    .move_to((92, 4))\n",
    "    .line_to((4, 92))\n",
    "    .stroke()\n",
    ")\n",
    "ctx.source_colour = Colour.grey(1)\n",
    "ctx.paint()\n",
    "pat = qah.Pattern.create_for_surface(pix2)\n",
    "pat.extend = CAIRO.EXTEND_REPEAT\n",
    "ctx.source = pat\n",
    "ctx.circle(centre = (128, 128), radius = 96)\n",
    "ctx.fill()\n",
    "\n",
    "display()"
   ]
  },
  {
   "cell_type": "markdown",
   "metadata": {},
   "source": [
    "Of course, pattern rendering works with text, too:"
   ]
  },
  {
   "cell_type": "code",
   "execution_count": null,
   "metadata": {},
   "outputs": [],
   "source": [
    "(ctx\n",
    "    .set_source_colour(Colour.x11[\"brown4\"])\n",
    "    .paint()\n",
    "    .select_font_face(\"sans serif\", CAIRO.FONT_SLANT_NORMAL, CAIRO.FONT_WEIGHT_NORMAL)\n",
    "    .set_font_size(72)\n",
    "    .move_to((15, 100))\n",
    "    .text_path(\"Hello,\")\n",
    "    .move_to((15, 200))\n",
    "    .text_path(\"World!\")\n",
    "    .set_source(pat)\n",
    "    .fill()\n",
    ")\n",
    "\n",
    "display()"
   ]
  },
  {
   "cell_type": "markdown",
   "metadata": {},
   "source": [
    "## Line Dashing ##\n",
    "\n",
    "Cairo doesn’t just let you draw simple lines: you can also define a _dash pattern_ to break the line up into a periodic pattern of segments. This is on top of any source pattern that may be used to render the segments of the line."
   ]
  },
  {
   "cell_type": "code",
   "execution_count": null,
   "metadata": {},
   "outputs": [],
   "source": [
    "ctx.source_colour = Colour.x11[\"old lace\"]\n",
    "ctx.paint()\n",
    "ctx.source_colour = Colour.x11[\"medium violet red\"]\n",
    "ctx.dash = ((16, 8, 8, 16), 0)\n",
    "ctx.line_width = 16\n",
    "ctx.move_to((50, 60))\n",
    "ctx.line_to((200, 180))\n",
    "ctx.stroke()\n",
    "\n",
    "display()\n"
   ]
  },
  {
   "cell_type": "code",
   "execution_count": null,
   "metadata": {},
   "outputs": [],
   "source": [
    "import array\n",
    "\n",
    "bwpat = \\\n",
    "  (\n",
    "    b\". ..   .\"\n",
    "    b\"  ..    \"\n",
    "    b\"      ..\"\n",
    "    b\"   .. ..\"\n",
    "    b\".. ..   \"\n",
    "    b\"..      \"\n",
    "    b\"    ..  \"\n",
    "    b\".   .. .\"\n",
    "  )\n",
    "\n",
    "pat = \\\n",
    "  (\n",
    "    qah.Pattern.create_for_surface\n",
    "      (\n",
    "        qah.ImageSurface.create_for_array\n",
    "          (\n",
    "            arr = array.array(\"B\", ((0, 255)[b > ord(\" \")] for b in bwpat)),\n",
    "            format = CAIRO.FORMAT_A8,\n",
    "            dimensions = (8, 8),\n",
    "            stride = 8\n",
    "          )\n",
    "      )\n",
    "    .set_filter(CAIRO.FILTER_NEAREST) # for that gritty, pixelated look\n",
    "    .set_extend(CAIRO.EXTEND_REPEAT)\n",
    "  )\n",
    "\n",
    "ctx.source_colour = Colour.x11[\"old lace\"]\n",
    "ctx.paint()\n",
    "ctx.source = pat\n",
    "ctx.dash = ((16, 8, 8, 16), 0)\n",
    "ctx.line_width = 16\n",
    "ctx.move_to((50, 60))\n",
    "ctx.line_to((200, 180))\n",
    "ctx.stroke()\n",
    "ctx.dash = ((), 0) # to avoid affecting subsequent drawing\n",
    "\n",
    "display()\n"
   ]
  },
  {
   "cell_type": "markdown",
   "metadata": {},
   "source": [
    "## Vectors And Vector Arithmetic ##\n",
    "\n",
    "As mentioned, Qahirah does not separate _x_ and _y_ coordinates of points, it combines them into a single `Vector` type. This is because I often see nearly identical calculations written out twice, once to compute _x_ and once to compute _y_. Isn’t it much less effort to just write things out once? Consider the case of computing a point at a given distance and direction from an initial point. This can be done with conventional scalar arithmetic as\n",
    "\n",
    "    pt2_x = pt1_x + distance * math.cos(direction)\n",
    "    pt2_y = pt1_y + distance * math.sin(direction)\n",
    "\n",
    "or it could be done more concisely in Qahirah as\n",
    "\n",
    "    pt2 = pt1 + Vector.from_polar(distance, direction)\n",
    "\n",
    "There is a separate notebook in this set, on Vector Arithmetic, that goes into this topic in more detail."
   ]
  },
  {
   "cell_type": "markdown",
   "metadata": {},
   "source": [
    "## Basic Coordinate Transformations ##\n",
    "\n",
    "It is quite common for a figure to occur multiple times in a drawing. The instances might be in different locations, but they can also be rotated into different orientations, or scaled to different sizes.\n",
    "\n",
    "Rather than try to compute the coordinates directly every time you draw the figure, Cairo can do that for you, by applying a _coordinate transformation_ to the drawing context. Then the code that produces that figure can use a simple fixed set of coordinate numbers.\n",
    "\n",
    "In computer graphics parlance, the figure is defined in its own _object coordinate system_ , and each instance undergoes a separate transformation to the _world coordinate system_.\n",
    "\n",
    "In conjunction with this, it can be convenient to use the `save()` and `restore()` methods in a `Context`, so that changes to the coordinate system can be restricted to just part of the drawing. Changes to other context settings also get bracketed in this way.\n",
    "\n",
    "Note that rotation angles are defined such that 0° is oriented along the positive $x$-axis, while 90° points along the positive $y$-axis. In the default coordinate system, this means that positive rotation angles are _clockwise_ , while negative angles go _anticlockwise_. But this can change if you apply a scaling transformation where the sign of one axis is flipped but not the other."
   ]
  },
  {
   "cell_type": "code",
   "execution_count": null,
   "metadata": {},
   "outputs": [],
   "source": [
    "ctx.source_colour = Colour.x11[\"antique white\"]\n",
    "ctx.paint()\n",
    "ctx.source_colour = Colour.x11[\"royal blue\"]\n",
    "\n",
    "for i in range(6) :\n",
    "    ctx.save()\n",
    "    ctx.rotate(i * 15 * qah.deg)\n",
    "    ctx.rectangle(qah.Rect(200, 10, 25, 50))\n",
    "    ctx.fill()\n",
    "    ctx.restore()\n",
    "#end for\n",
    "\n",
    "display()"
   ]
  },
  {
   "cell_type": "markdown",
   "metadata": {},
   "source": [
    "Applying a global scale factor to the entire drawing is a convenient way to produce graphics at different resolutions: for example, all drawing could be done assuming the default Cairo coordinate system with 72 units to the inch; but the underlying `ImageSurface` could be dimensioned according to a pixel density of 300dpi or 360dpi for high-quality printing, and with an appropriate scale factor (and the use of fractional coordinates where appropriate), the main part of the drawing code does not need to be changed to take account of this.\n",
    "\n",
    "A more general form of such transformations is availble as available in the form of [matrices](https://www.cairographics.org/manual/cairo-cairo-matrix-t.html), implemented in Qahirah as the `Matrix` type. These can be used to apply positioning, rotation and scaling transformations to contexts, text strings, paths and patterns. There is a whole separate notebook, accompanying this one, that gives more details."
   ]
  },
  {
   "cell_type": "markdown",
   "metadata": {},
   "source": [
    "## Clipping ##\n",
    "\n",
    "It is very common in computer graphics to restrict drawing to just part of the picture. For example, you might be drawing an outside scene visible through a window, some objects of which may only be partly visible. Rather than try to work out how to draw just a _part_ of these objects, it is often easier to define the window frame as a _clipping region_ , and simply draw the entire object; the parts that lie outside the clipping region (hidden by the window edge) do not appear, and existing parts of the drawing in that area remain unchanged instead of being overwritten.\n",
    "\n",
    "In Cairo, this is done by defining a _clipping path_."
   ]
  },
  {
   "cell_type": "code",
   "execution_count": null,
   "metadata": {},
   "outputs": [],
   "source": [
    "# without clipping\n",
    "\n",
    "ctx.source_colour = Colour.x11[\"honeydew\"]\n",
    "ctx.paint()\n",
    "\n",
    "ctx.source_colour = Colour.x11[\"slateblue2\"]\n",
    "ctx.rectangle(qah.Rect(32, 64, 192, 32))\n",
    "ctx.fill()\n",
    "ctx.source_colour = Colour.x11[\"yellow4\"]\n",
    "ctx.rectangle(qah.Rect(32, 128, 192, 32))\n",
    "ctx.fill()\n",
    "\n",
    "display()\n",
    "\n",
    "# with clipping\n",
    "\n",
    "ctx.source_colour = Colour.x11[\"honeydew\"]\n",
    "ctx.paint()\n",
    "\n",
    "ctx.circle(centre = (128, 96), radius = 64)\n",
    "ctx.clip()\n",
    "\n",
    "ctx.source_colour = Colour.x11[\"slateblue2\"]\n",
    "ctx.rectangle(qah.Rect(32, 64, 192, 32))\n",
    "ctx.fill()\n",
    "ctx.source_colour = Colour.x11[\"yellow4\"]\n",
    "ctx.rectangle(qah.Rect(32, 128, 192, 32))\n",
    "ctx.fill()\n",
    "\n",
    "ctx.reset_clip() # just to avoid affecting subsequent drawing\n",
    "\n",
    "display()\n"
   ]
  },
  {
   "cell_type": "markdown",
   "metadata": {},
   "source": [
    "## Path Objects ##\n",
    "\n",
    "It should already be clear that paths are a very fundamental concept in the Cairo graphics model. So it is surprising to see that Cairo itself does not provide much in the way of facilities for manipulating them. But never fear, because Qahirah fills that gap.\n",
    "\n",
    "Paths are built up in Cairo out of `new_sub_path()`, `move_to()`, `line_to()`, `curve_to()` and `close_path()` calls. (Other shapes like arcs, circles and rectangles are ultimately built out of these same primitives.) Qahirah wraps Cairo’s `copy_path()` call to return a pure-Python `Path` object. It also provides means to construct `Path` objects directly, without using Cairo’s calls, and therefore without having to create a drawing `Context`. Of course, such `Path`s can be passed back to Cairo, where it is expecting one of its own `cairo_path_t` objects; Qahirah will perform the necessary conversion.\n",
    "\n",
    "Qahirah’s `Path` objects consist of a sequence of `Path.Segment` objects, each representing a sub-path. A `Path.Segment` can be constructed in terms of `MoveTo`, `LineTo`, `CurveTo` and `Close` analogues to Cairo’s path-construction calls, and it can also be decomposed into a sequence of such calls—these elements have become a very traditional way of thinking about paths, dating back to the old PostScript printing/graphics language.\n",
    "\n",
    "But the underlying representation of a `Path.Segment` is actually in terms of a sequence of `Path.Point` objects: each contains a `Vector` representing its coordinates, together with an _off-curve_ flag: a value of `False` for this flag indicates that the path passes through this point, while a value of `True` indicates that it is an intermediate control point for a Bézier curve.\n",
    "\n",
    "Thus, a succession of two on-curve points defines a straight line; if there is one off-curve point in-between, then this is a _quadratic_ Bézier segment, and if there are two off-curve points in-between the on-curve points, then this is a _cubic_ Bézier segment (more than two off-curve points in succession are not allowed). The segment also has a flag indicating whether it is open or closed.\n",
    "\n",
    "This representation for paths lends itself to many useful manipulations. For example, it is easy to reverse the direction of a path, and determine the orientation (clockwise or anticlockwise) of a path segment.\n"
   ]
  },
  {
   "cell_type": "code",
   "execution_count": null,
   "metadata": {},
   "outputs": [],
   "source": [
    "from qahirah import \\\n",
    "    Path\n",
    "\n",
    "# three different ways to construct the same path\n",
    "\n",
    "path1 = \\\n",
    "    (qah.Context.create_for_dummy()\n",
    "        .move_to((128, 16))\n",
    "        .curve_to((64, 64), (192, 192), (128, 240))\n",
    "        .copy_path()\n",
    "    )\n",
    "print(path1)\n",
    "\n",
    "path2 = Path.from_elements \\\n",
    "  (\n",
    "    [\n",
    "        Path.MoveTo((128, 16)),\n",
    "        Path.CurveTo((64, 64), (192, 192), (128, 240)),\n",
    "    ]\n",
    "  )\n",
    "print(path2)\n",
    "\n",
    "path3 = Path \\\n",
    "  (\n",
    "    [\n",
    "        Path.Segment\n",
    "          (\n",
    "            points =\n",
    "                [\n",
    "                    ((128, 16), False),\n",
    "                    ((64, 64), True),\n",
    "                    ((192, 192), True),\n",
    "                    ((128, 240), False),\n",
    "                ],\n",
    "            closed = False\n",
    "          ),\n",
    "    ]\n",
    "  )\n",
    "print(path3)"
   ]
  },
  {
   "cell_type": "code",
   "execution_count": null,
   "metadata": {},
   "outputs": [],
   "source": [
    "ctx.source_colour = Colour.x11[\"light steel blue\"]\n",
    "ctx.paint()\n",
    "ctx.line_width = 16\n",
    "ctx.source_colour = Colour.x11[\"mistyrose3\"]\n",
    "ctx.append_path(path2)\n",
    "ctx.stroke()\n",
    "ctx.source_colour = Colour.x11[\"mistyrose4\"]\n",
    "ctx.append_path(path3, qah.Matrix.rotate(angle = 45 * qah.deg, centre = (128, 128)))\n",
    "ctx.stroke()\n",
    "\n",
    "display()"
   ]
  },
  {
   "cell_type": "code",
   "execution_count": null,
   "metadata": {},
   "outputs": [],
   "source": []
  }
 ],
 "metadata": {
  "kernelspec": {
   "display_name": "Python 3",
   "language": "python",
   "name": "python3"
  },
  "language_info": {
   "codemirror_mode": {
    "name": "ipython",
    "version": 3
   },
   "file_extension": ".py",
   "mimetype": "text/x-python",
   "name": "python",
   "nbconvert_exporter": "python",
   "pygments_lexer": "ipython3",
   "version": "3.9.2"
  }
 },
 "nbformat": 4,
 "nbformat_minor": 1
}
